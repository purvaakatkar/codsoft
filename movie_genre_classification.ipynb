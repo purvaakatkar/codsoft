{
 "cells": [
  {
   "cell_type": "code",
   "execution_count": 29,
   "id": "4d56cf73",
   "metadata": {},
   "outputs": [],
   "source": [
    "import numpy as np\n",
    "import pandas as pd"
   ]
  },
  {
   "cell_type": "code",
   "execution_count": 30,
   "id": "89fae864",
   "metadata": {},
   "outputs": [],
   "source": [
    "import seaborn as sns\n",
    "import matplotlib.pyplot as plt"
   ]
  },
  {
   "cell_type": "code",
   "execution_count": 31,
   "id": "f3fe6cfc",
   "metadata": {},
   "outputs": [],
   "source": [
    "train_data = pd.read_csv(r\"C:\\Users\\PURVA\\Downloads\\archive (11)\\Genre Classification Dataset\\train_data.txt\",sep=\":::\",names=['movie','genre','description'],engine='python')"
   ]
  },
  {
   "cell_type": "code",
   "execution_count": 32,
   "id": "e7e12bbf",
   "metadata": {},
   "outputs": [
    {
     "data": {
      "text/plain": [
       "(54214, 3)"
      ]
     },
     "execution_count": 32,
     "metadata": {},
     "output_type": "execute_result"
    }
   ],
   "source": [
    "train_data.shape"
   ]
  },
  {
   "cell_type": "code",
   "execution_count": 33,
   "id": "de38497e",
   "metadata": {},
   "outputs": [
    {
     "data": {
      "text/html": [
       "<div>\n",
       "<style scoped>\n",
       "    .dataframe tbody tr th:only-of-type {\n",
       "        vertical-align: middle;\n",
       "    }\n",
       "\n",
       "    .dataframe tbody tr th {\n",
       "        vertical-align: top;\n",
       "    }\n",
       "\n",
       "    .dataframe thead th {\n",
       "        text-align: right;\n",
       "    }\n",
       "</style>\n",
       "<table border=\"1\" class=\"dataframe\">\n",
       "  <thead>\n",
       "    <tr style=\"text-align: right;\">\n",
       "      <th></th>\n",
       "      <th>movie</th>\n",
       "      <th>genre</th>\n",
       "      <th>description</th>\n",
       "    </tr>\n",
       "  </thead>\n",
       "  <tbody>\n",
       "    <tr>\n",
       "      <th>1</th>\n",
       "      <td>Oscar et la dame rose (2009)</td>\n",
       "      <td>drama</td>\n",
       "      <td>Listening in to a conversation between his do...</td>\n",
       "    </tr>\n",
       "    <tr>\n",
       "      <th>2</th>\n",
       "      <td>Cupid (1997)</td>\n",
       "      <td>thriller</td>\n",
       "      <td>A brother and sister with a past incestuous r...</td>\n",
       "    </tr>\n",
       "    <tr>\n",
       "      <th>3</th>\n",
       "      <td>Young, Wild and Wonderful (1980)</td>\n",
       "      <td>adult</td>\n",
       "      <td>As the bus empties the students for their fie...</td>\n",
       "    </tr>\n",
       "    <tr>\n",
       "      <th>4</th>\n",
       "      <td>The Secret Sin (1915)</td>\n",
       "      <td>drama</td>\n",
       "      <td>To help their unemployed father make ends mee...</td>\n",
       "    </tr>\n",
       "    <tr>\n",
       "      <th>5</th>\n",
       "      <td>The Unrecovered (2007)</td>\n",
       "      <td>drama</td>\n",
       "      <td>The film's title refers not only to the un-re...</td>\n",
       "    </tr>\n",
       "  </tbody>\n",
       "</table>\n",
       "</div>"
      ],
      "text/plain": [
       "                                movie       genre  \\\n",
       "1       Oscar et la dame rose (2009)       drama    \n",
       "2                       Cupid (1997)    thriller    \n",
       "3   Young, Wild and Wonderful (1980)       adult    \n",
       "4              The Secret Sin (1915)       drama    \n",
       "5             The Unrecovered (2007)       drama    \n",
       "\n",
       "                                         description  \n",
       "1   Listening in to a conversation between his do...  \n",
       "2   A brother and sister with a past incestuous r...  \n",
       "3   As the bus empties the students for their fie...  \n",
       "4   To help their unemployed father make ends mee...  \n",
       "5   The film's title refers not only to the un-re...  "
      ]
     },
     "execution_count": 33,
     "metadata": {},
     "output_type": "execute_result"
    }
   ],
   "source": [
    "train_data.head()"
   ]
  },
  {
   "cell_type": "code",
   "execution_count": 34,
   "id": "3daa3612",
   "metadata": {},
   "outputs": [],
   "source": [
    "test_data =pd.read_csv(r\"C:\\Users\\PURVA\\Downloads\\archive (11)\\Genre Classification Dataset\\test_data_solution.txt\",sep=\":::\",names=['movie','genre','description'],engine='python')"
   ]
  },
  {
   "cell_type": "code",
   "execution_count": 35,
   "id": "72560632",
   "metadata": {},
   "outputs": [
    {
     "data": {
      "text/plain": [
       "(54200, 3)"
      ]
     },
     "execution_count": 35,
     "metadata": {},
     "output_type": "execute_result"
    }
   ],
   "source": [
    "test_data.shape"
   ]
  },
  {
   "cell_type": "code",
   "execution_count": 36,
   "id": "db2a9517",
   "metadata": {},
   "outputs": [
    {
     "data": {
      "text/html": [
       "<div>\n",
       "<style scoped>\n",
       "    .dataframe tbody tr th:only-of-type {\n",
       "        vertical-align: middle;\n",
       "    }\n",
       "\n",
       "    .dataframe tbody tr th {\n",
       "        vertical-align: top;\n",
       "    }\n",
       "\n",
       "    .dataframe thead th {\n",
       "        text-align: right;\n",
       "    }\n",
       "</style>\n",
       "<table border=\"1\" class=\"dataframe\">\n",
       "  <thead>\n",
       "    <tr style=\"text-align: right;\">\n",
       "      <th></th>\n",
       "      <th>movie</th>\n",
       "      <th>genre</th>\n",
       "      <th>description</th>\n",
       "    </tr>\n",
       "  </thead>\n",
       "  <tbody>\n",
       "    <tr>\n",
       "      <th>1</th>\n",
       "      <td>Edgar's Lunch (1998)</td>\n",
       "      <td>thriller</td>\n",
       "      <td>L.R. Brane loves his life - his car, his apar...</td>\n",
       "    </tr>\n",
       "    <tr>\n",
       "      <th>2</th>\n",
       "      <td>La guerra de papá (1977)</td>\n",
       "      <td>comedy</td>\n",
       "      <td>Spain, March 1964: Quico is a very naughty ch...</td>\n",
       "    </tr>\n",
       "    <tr>\n",
       "      <th>3</th>\n",
       "      <td>Off the Beaten Track (2010)</td>\n",
       "      <td>documentary</td>\n",
       "      <td>One year in the life of Albin and his family ...</td>\n",
       "    </tr>\n",
       "    <tr>\n",
       "      <th>4</th>\n",
       "      <td>Meu Amigo Hindu (2015)</td>\n",
       "      <td>drama</td>\n",
       "      <td>His father has died, he hasn't spoken with hi...</td>\n",
       "    </tr>\n",
       "    <tr>\n",
       "      <th>5</th>\n",
       "      <td>Er nu zhai (1955)</td>\n",
       "      <td>drama</td>\n",
       "      <td>Before he was known internationally as a mart...</td>\n",
       "    </tr>\n",
       "  </tbody>\n",
       "</table>\n",
       "</div>"
      ],
      "text/plain": [
       "                           movie          genre  \\\n",
       "1          Edgar's Lunch (1998)       thriller    \n",
       "2      La guerra de papá (1977)         comedy    \n",
       "3   Off the Beaten Track (2010)    documentary    \n",
       "4        Meu Amigo Hindu (2015)          drama    \n",
       "5             Er nu zhai (1955)          drama    \n",
       "\n",
       "                                         description  \n",
       "1   L.R. Brane loves his life - his car, his apar...  \n",
       "2   Spain, March 1964: Quico is a very naughty ch...  \n",
       "3   One year in the life of Albin and his family ...  \n",
       "4   His father has died, he hasn't spoken with hi...  \n",
       "5   Before he was known internationally as a mart...  "
      ]
     },
     "execution_count": 36,
     "metadata": {},
     "output_type": "execute_result"
    }
   ],
   "source": [
    "test_data.head()"
   ]
  },
  {
   "cell_type": "code",
   "execution_count": 37,
   "id": "39728b76",
   "metadata": {},
   "outputs": [
    {
     "name": "stdout",
     "output_type": "stream",
     "text": [
      "<class 'pandas.core.frame.DataFrame'>\n",
      "Int64Index: 54214 entries, 1 to 54214\n",
      "Data columns (total 3 columns):\n",
      " #   Column       Non-Null Count  Dtype \n",
      "---  ------       --------------  ----- \n",
      " 0   movie        54214 non-null  object\n",
      " 1   genre        54214 non-null  object\n",
      " 2   description  54214 non-null  object\n",
      "dtypes: object(3)\n",
      "memory usage: 1.7+ MB\n"
     ]
    }
   ],
   "source": [
    "train_data.info()"
   ]
  },
  {
   "cell_type": "code",
   "execution_count": 38,
   "id": "fdf65971",
   "metadata": {},
   "outputs": [
    {
     "data": {
      "text/plain": [
       "movie          0\n",
       "genre          0\n",
       "description    0\n",
       "dtype: int64"
      ]
     },
     "execution_count": 38,
     "metadata": {},
     "output_type": "execute_result"
    }
   ],
   "source": [
    "train_data.isnull().sum()"
   ]
  },
  {
   "cell_type": "code",
   "execution_count": 39,
   "id": "dc5d48a7",
   "metadata": {},
   "outputs": [
    {
     "data": {
      "text/plain": [
       "movie          0\n",
       "genre          0\n",
       "description    0\n",
       "dtype: int64"
      ]
     },
     "execution_count": 39,
     "metadata": {},
     "output_type": "execute_result"
    }
   ],
   "source": [
    "test_data.isnull().sum()"
   ]
  },
  {
   "cell_type": "code",
   "execution_count": 40,
   "id": "2c67862f",
   "metadata": {},
   "outputs": [],
   "source": [
    "train_data.loc[:,'description'] = train_data['description'].astype(str).str.lower()"
   ]
  },
  {
   "cell_type": "code",
   "execution_count": 41,
   "id": "869edc67",
   "metadata": {},
   "outputs": [],
   "source": [
    "test_data.loc[:,'description'] = test_data['description'].astype(str).str.lower()"
   ]
  },
  {
   "cell_type": "code",
   "execution_count": 42,
   "id": "213e08b8",
   "metadata": {},
   "outputs": [],
   "source": [
    "train_data.drop(columns=['movie'],inplace=True)\n",
    "test_data.drop(columns=['movie'],inplace=True)"
   ]
  },
  {
   "cell_type": "code",
   "execution_count": 43,
   "id": "1a6e02a1",
   "metadata": {},
   "outputs": [
    {
     "data": {
      "text/plain": [
       "110"
      ]
     },
     "execution_count": 43,
     "metadata": {},
     "output_type": "execute_result"
    }
   ],
   "source": [
    "train_data.duplicated().sum()"
   ]
  },
  {
   "cell_type": "code",
   "execution_count": 44,
   "id": "e9394baa",
   "metadata": {},
   "outputs": [
    {
     "data": {
      "text/plain": [
       "114"
      ]
     },
     "execution_count": 44,
     "metadata": {},
     "output_type": "execute_result"
    }
   ],
   "source": [
    "test_data.duplicated().sum()"
   ]
  },
  {
   "cell_type": "code",
   "execution_count": 45,
   "id": "eac2ceb8",
   "metadata": {},
   "outputs": [],
   "source": [
    "train_data = train_data.drop_duplicates()\n",
    "test_data = test_data.drop_duplicates()\n"
   ]
  },
  {
   "cell_type": "code",
   "execution_count": 46,
   "id": "e4c3d9f7",
   "metadata": {},
   "outputs": [
    {
     "data": {
      "text/plain": [
       "0"
      ]
     },
     "execution_count": 46,
     "metadata": {},
     "output_type": "execute_result"
    }
   ],
   "source": [
    "test_data.duplicated().sum()"
   ]
  },
  {
   "cell_type": "code",
   "execution_count": 50,
   "id": "71f45fd8",
   "metadata": {},
   "outputs": [
    {
     "data": {
      "image/png": "[encoded data removed]",
      "text/plain": [
       "<Figure size 1200x800 with 1 Axes>"
      ]
     },
     "metadata": {},
     "output_type": "display_data"
    }
   ],
   "source": [
    "genre_value_count = train_data['genre'].value_counts()\n",
    "plt.figure(figsize=(12,8))\n",
    "genre_value_count.plot(kind='bar',color='green')\n",
    "plt.title(\"movie genre distribution\")\n",
    "plt.xlabel(\"genre\")\n",
    "plt.ylabel(\"count\")\n",
    "plt.xticks(rotation=40)\n",
    "plt.show()"
   ]
  },
  {
   "cell_type": "code",
   "execution_count": 51,
   "id": "549d7038",
   "metadata": {},
   "outputs": [],
   "source": [
    "X = train_data['description']\n",
    "y = train_data['genre']\n",
    "\n",
    "x_test = test_data['description']\n",
    "y_test = test_data['genre']\n"
   ]
  },
  {
   "cell_type": "code",
   "execution_count": 52,
   "id": "9f2beaae",
   "metadata": {},
   "outputs": [],
   "source": [
    "from sklearn.model_selection import train_test_split"
   ]
  },
  {
   "cell_type": "code",
   "execution_count": 53,
   "id": "b2fbeff4",
   "metadata": {},
   "outputs": [],
   "source": [
    "xtrain,xval,ytrain,yval = train_test_split(X,y,test_size=0.2,random_state=42)"
   ]
  },
  {
   "cell_type": "code",
   "execution_count": 55,
   "id": "ba95ba71",
   "metadata": {},
   "outputs": [],
   "source": [
    "from sklearn.feature_extraction.text import TfidfVectorizer\n"
   ]
  },
  {
   "cell_type": "code",
   "execution_count": 60,
   "id": "3dfaeb8d",
   "metadata": {},
   "outputs": [],
   "source": [
    "tfidf = TfidfVectorizer(stop_words = 'english',max_features=5000)\n",
    "xtrain_vec = tfidf.fit_transform(xtrain)\n",
    "xval_vec = tfidf.transform(xval)\n",
    "xtest_vec = tfidf.transform(xtest)"
   ]
  },
  {
   "cell_type": "code",
   "execution_count": 61,
   "id": "1997da1e",
   "metadata": {},
   "outputs": [
    {
     "data": {
      "text/html": [
       "<style>#sk-container-id-1 {color: black;}#sk-container-id-1 pre{padding: 0;}#sk-container-id-1 div.sk-toggleable {background-color: white;}#sk-container-id-1 label.sk-toggleable__label {cursor: pointer;display: block;width: 100%;margin-bottom: 0;padding: 0.3em;box-sizing: border-box;text-align: center;}#sk-container-id-1 label.sk-toggleable__label-arrow:before {content: \"▸\";float: left;margin-right: 0.25em;color: #696969;}#sk-container-id-1 label.sk-toggleable__label-arrow:hover:before {color: black;}#sk-container-id-1 div.sk-estimator:hover label.sk-toggleable__label-arrow:before {color: black;}#sk-container-id-1 div.sk-toggleable__content {max-height: 0;max-width: 0;overflow: hidden;text-align: left;background-color: #f0f8ff;}#sk-container-id-1 div.sk-toggleable__content pre {margin: 0.2em;color: black;border-radius: 0.25em;background-color: #f0f8ff;}#sk-container-id-1 input.sk-toggleable__control:checked~div.sk-toggleable__content {max-height: 200px;max-width: 100%;overflow: auto;}#sk-container-id-1 input.sk-toggleable__control:checked~label.sk-toggleable__label-arrow:before {content: \"▾\";}#sk-container-id-1 div.sk-estimator input.sk-toggleable__control:checked~label.sk-toggleable__label {background-color: #d4ebff;}#sk-container-id-1 div.sk-label input.sk-toggleable__control:checked~label.sk-toggleable__label {background-color: #d4ebff;}#sk-container-id-1 input.sk-hidden--visually {border: 0;clip: rect(1px 1px 1px 1px);clip: rect(1px, 1px, 1px, 1px);height: 1px;margin: -1px;overflow: hidden;padding: 0;position: absolute;width: 1px;}#sk-container-id-1 div.sk-estimator {font-family: monospace;background-color: #f0f8ff;border: 1px dotted black;border-radius: 0.25em;box-sizing: border-box;margin-bottom: 0.5em;}#sk-container-id-1 div.sk-estimator:hover {background-color: #d4ebff;}#sk-container-id-1 div.sk-parallel-item::after {content: \"\";width: 100%;border-bottom: 1px solid gray;flex-grow: 1;}#sk-container-id-1 div.sk-label:hover label.sk-toggleable__label {background-color: #d4ebff;}#sk-container-id-1 div.sk-serial::before {content: \"\";position: absolute;border-left: 1px solid gray;box-sizing: border-box;top: 0;bottom: 0;left: 50%;z-index: 0;}#sk-container-id-1 div.sk-serial {display: flex;flex-direction: column;align-items: center;background-color: white;padding-right: 0.2em;padding-left: 0.2em;position: relative;}#sk-container-id-1 div.sk-item {position: relative;z-index: 1;}#sk-container-id-1 div.sk-parallel {display: flex;align-items: stretch;justify-content: center;background-color: white;position: relative;}#sk-container-id-1 div.sk-item::before, #sk-container-id-1 div.sk-parallel-item::before {content: \"\";position: absolute;border-left: 1px solid gray;box-sizing: border-box;top: 0;bottom: 0;left: 50%;z-index: -1;}#sk-container-id-1 div.sk-parallel-item {display: flex;flex-direction: column;z-index: 1;position: relative;background-color: white;}#sk-container-id-1 div.sk-parallel-item:first-child::after {align-self: flex-end;width: 50%;}#sk-container-id-1 div.sk-parallel-item:last-child::after {align-self: flex-start;width: 50%;}#sk-container-id-1 div.sk-parallel-item:only-child::after {width: 0;}#sk-container-id-1 div.sk-dashed-wrapped {border: 1px dashed gray;margin: 0 0.4em 0.5em 0.4em;box-sizing: border-box;padding-bottom: 0.4em;background-color: white;}#sk-container-id-1 div.sk-label label {font-family: monospace;font-weight: bold;display: inline-block;line-height: 1.2em;}#sk-container-id-1 div.sk-label-container {text-align: center;}#sk-container-id-1 div.sk-container {/* jupyter's `normalize.less` sets `[hidden] { display: none; }` but bootstrap.min.css set `[hidden] { display: none !important; }` so we also need the `!important` here to be able to override the default hidden behavior on the sphinx rendered scikit-learn.org. See: https://github.com/scikit-learn/scikit-learn/issues/21755 */display: inline-block !important;position: relative;}#sk-container-id-1 div.sk-text-repr-fallback {display: none;}</style><div id=\"sk-container-id-1\" class=\"sk-top-container\"><div class=\"sk-text-repr-fallback\"><pre>MultinomialNB()</pre><b>In a Jupyter environment, please rerun this cell to show the HTML representation or trust the notebook. <br />On GitHub, the HTML representation is unable to render, please try loading this page with nbviewer.org.</b></div><div class=\"sk-container\" hidden><div class=\"sk-item\"><div class=\"sk-estimator sk-toggleable\"><input class=\"sk-toggleable__control sk-hidden--visually\" id=\"sk-estimator-id-1\" type=\"checkbox\" checked><label for=\"sk-estimator-id-1\" class=\"sk-toggleable__label sk-toggleable__label-arrow\">MultinomialNB</label><div class=\"sk-toggleable__content\"><pre>MultinomialNB()</pre></div></div></div></div></div>"
      ],
      "text/plain": [
       "MultinomialNB()"
      ]
     },
     "execution_count": 61,
     "metadata": {},
     "output_type": "execute_result"
    }
   ],
   "source": [
    "from sklearn.naive_bayes import MultinomialNB\n",
    "nb=MultinomialNB()\n",
    "nb.fit(xtrain_vec,ytrain)"
   ]
  },
  {
   "cell_type": "code",
   "execution_count": 62,
   "id": "f38b160b",
   "metadata": {},
   "outputs": [],
   "source": [
    "ypred_val = nb.predict(xval_vec)"
   ]
  },
  {
   "cell_type": "code",
   "execution_count": 77,
   "id": "2a8a3ad2",
   "metadata": {},
   "outputs": [
    {
     "name": "stdout",
     "output_type": "stream",
     "text": [
      "validation accuracy: 0.5261990573884114\n",
      "validation classification report:\n",
      "                precision    recall  f1-score   support\n",
      "\n",
      "      action        0.52      0.06      0.11       271\n",
      "       adult        0.50      0.03      0.06       118\n",
      "   adventure        0.64      0.06      0.12       141\n",
      "   animation        0.00      0.00      0.00        84\n",
      "   biography        0.00      0.00      0.00        54\n",
      "      comedy        0.51      0.44      0.47      1445\n",
      "       crime        0.00      0.00      0.00        88\n",
      " documentary        0.59      0.89      0.71      2685\n",
      "       drama        0.46      0.83      0.59      2720\n",
      "      family        0.00      0.00      0.00       145\n",
      "     fantasy        0.00      0.00      0.00        57\n",
      "   game-show        1.00      0.20      0.33        40\n",
      "     history        0.00      0.00      0.00        52\n",
      "      horror        0.71      0.34      0.46       429\n",
      "       music        0.93      0.09      0.17       148\n",
      "     musical        0.00      0.00      0.00        55\n",
      "     mystery        0.00      0.00      0.00        89\n",
      "        news        0.00      0.00      0.00        39\n",
      "  reality-tv        0.40      0.01      0.02       167\n",
      "     romance        0.00      0.00      0.00       127\n",
      "      sci-fi        0.67      0.01      0.03       134\n",
      "       short        0.59      0.10      0.17      1001\n",
      "       sport        1.00      0.06      0.12        80\n",
      "   talk-show        0.00      0.00      0.00        73\n",
      "    thriller        0.56      0.01      0.03       341\n",
      "         war        0.00      0.00      0.00        27\n",
      "     western        0.97      0.55      0.70       211\n",
      "\n",
      "     accuracy                           0.53     10821\n",
      "    macro avg       0.37      0.14      0.15     10821\n",
      " weighted avg       0.51      0.53      0.45     10821\n",
      "\n"
     ]
    }
   ],
   "source": [
    "from sklearn.metrics import accuracy_score,classification_report\n",
    "accuracy_val = accuracy_score(yval,ypred_val)\n",
    "print(\"validation accuracy:\",accuracy_val)\n",
    "print(\"validation classification report:\\n\",classification_report(yval,ypred_val,zero_division=0))"
   ]
  },
  {
   "cell_type": "code",
   "execution_count": 76,
   "id": "7aa21505",
   "metadata": {},
   "outputs": [
    {
     "name": "stdout",
     "output_type": "stream",
     "text": [
      "validation accuracy: 0.5188773434899974\n",
      "validation classification report:\n",
      "                precision    recall  f1-score   support\n",
      "\n",
      "      action        0.59      0.09      0.15      1314\n",
      "       adult        0.54      0.06      0.10       590\n",
      "   adventure        0.81      0.05      0.10       773\n",
      "   animation        0.00      0.00      0.00       498\n",
      "   biography        0.00      0.00      0.00       264\n",
      "      comedy        0.51      0.42      0.46      7437\n",
      "       crime        0.00      0.00      0.00       505\n",
      " documentary        0.57      0.87      0.69     13085\n",
      "       drama        0.45      0.83      0.59     13565\n",
      "      family        0.00      0.00      0.00       774\n",
      "     fantasy        0.00      0.00      0.00       322\n",
      "   game-show        0.98      0.27      0.43       193\n",
      "     history        0.00      0.00      0.00       243\n",
      "      horror        0.70      0.33      0.45      2204\n",
      "       music        0.79      0.09      0.16       720\n",
      "     musical        0.00      0.00      0.00       273\n",
      "     mystery        0.00      0.00      0.00       318\n",
      "        news        0.00      0.00      0.00       181\n",
      "  reality-tv        0.59      0.01      0.02       881\n",
      "     romance        0.00      0.00      0.00       670\n",
      "      sci-fi        0.63      0.03      0.06       645\n",
      "       short        0.60      0.11      0.19      5061\n",
      "       sport        0.80      0.10      0.18       430\n",
      "   talk-show        0.00      0.00      0.00       389\n",
      "    thriller        0.34      0.01      0.02      1589\n",
      "         war        0.00      0.00      0.00       132\n",
      "     western        0.95      0.58      0.72      1030\n",
      "\n",
      "     accuracy                           0.52     54086\n",
      "    macro avg       0.36      0.14      0.16     54086\n",
      " weighted avg       0.50      0.52      0.44     54086\n",
      "\n"
     ]
    }
   ],
   "source": [
    "ypred_test = nb.predict(xtest_vec)\n",
    "accuracy_test = accuracy_score(ytest,ypred_test)\n",
    "print(\"validation accuracy:\",accuracy_test)\n",
    "print(\"validation classification report:\\n\",classification_report(ytest,ypred_test,zero_division=0))"
   ]
  },
  {
   "cell_type": "code",
   "execution_count": 65,
   "id": "2b392122",
   "metadata": {},
   "outputs": [],
   "source": [
    "from sklearn.linear_model import LogisticRegression\n"
   ]
  },
  {
   "cell_type": "code",
   "execution_count": 67,
   "id": "40f6a5fc",
   "metadata": {},
   "outputs": [
    {
     "name": "stderr",
     "output_type": "stream",
     "text": [
      "C:\\Users\\PURVA\\anaconda3\\Lib\\site-packages\\sklearn\\linear_model\\_logistic.py:460: ConvergenceWarning: lbfgs failed to converge (status=1):\n",
      "STOP: TOTAL NO. of ITERATIONS REACHED LIMIT.\n",
      "\n",
      "Increase the number of iterations (max_iter) or scale the data as shown in:\n",
      "    https://scikit-learn.org/stable/modules/preprocessing.html\n",
      "Please also refer to the documentation for alternative solver options:\n",
      "    https://scikit-learn.org/stable/modules/linear_model.html#logistic-regression\n",
      "  n_iter_i = _check_optimize_result(\n"
     ]
    },
    {
     "data": {
      "text/html": [
       "<style>#sk-container-id-2 {color: black;}#sk-container-id-2 pre{padding: 0;}#sk-container-id-2 div.sk-toggleable {background-color: white;}#sk-container-id-2 label.sk-toggleable__label {cursor: pointer;display: block;width: 100%;margin-bottom: 0;padding: 0.3em;box-sizing: border-box;text-align: center;}#sk-container-id-2 label.sk-toggleable__label-arrow:before {content: \"▸\";float: left;margin-right: 0.25em;color: #696969;}#sk-container-id-2 label.sk-toggleable__label-arrow:hover:before {color: black;}#sk-container-id-2 div.sk-estimator:hover label.sk-toggleable__label-arrow:before {color: black;}#sk-container-id-2 div.sk-toggleable__content {max-height: 0;max-width: 0;overflow: hidden;text-align: left;background-color: #f0f8ff;}#sk-container-id-2 div.sk-toggleable__content pre {margin: 0.2em;color: black;border-radius: 0.25em;background-color: #f0f8ff;}#sk-container-id-2 input.sk-toggleable__control:checked~div.sk-toggleable__content {max-height: 200px;max-width: 100%;overflow: auto;}#sk-container-id-2 input.sk-toggleable__control:checked~label.sk-toggleable__label-arrow:before {content: \"▾\";}#sk-container-id-2 div.sk-estimator input.sk-toggleable__control:checked~label.sk-toggleable__label {background-color: #d4ebff;}#sk-container-id-2 div.sk-label input.sk-toggleable__control:checked~label.sk-toggleable__label {background-color: #d4ebff;}#sk-container-id-2 input.sk-hidden--visually {border: 0;clip: rect(1px 1px 1px 1px);clip: rect(1px, 1px, 1px, 1px);height: 1px;margin: -1px;overflow: hidden;padding: 0;position: absolute;width: 1px;}#sk-container-id-2 div.sk-estimator {font-family: monospace;background-color: #f0f8ff;border: 1px dotted black;border-radius: 0.25em;box-sizing: border-box;margin-bottom: 0.5em;}#sk-container-id-2 div.sk-estimator:hover {background-color: #d4ebff;}#sk-container-id-2 div.sk-parallel-item::after {content: \"\";width: 100%;border-bottom: 1px solid gray;flex-grow: 1;}#sk-container-id-2 div.sk-label:hover label.sk-toggleable__label {background-color: #d4ebff;}#sk-container-id-2 div.sk-serial::before {content: \"\";position: absolute;border-left: 1px solid gray;box-sizing: border-box;top: 0;bottom: 0;left: 50%;z-index: 0;}#sk-container-id-2 div.sk-serial {display: flex;flex-direction: column;align-items: center;background-color: white;padding-right: 0.2em;padding-left: 0.2em;position: relative;}#sk-container-id-2 div.sk-item {position: relative;z-index: 1;}#sk-container-id-2 div.sk-parallel {display: flex;align-items: stretch;justify-content: center;background-color: white;position: relative;}#sk-container-id-2 div.sk-item::before, #sk-container-id-2 div.sk-parallel-item::before {content: \"\";position: absolute;border-left: 1px solid gray;box-sizing: border-box;top: 0;bottom: 0;left: 50%;z-index: -1;}#sk-container-id-2 div.sk-parallel-item {display: flex;flex-direction: column;z-index: 1;position: relative;background-color: white;}#sk-container-id-2 div.sk-parallel-item:first-child::after {align-self: flex-end;width: 50%;}#sk-container-id-2 div.sk-parallel-item:last-child::after {align-self: flex-start;width: 50%;}#sk-container-id-2 div.sk-parallel-item:only-child::after {width: 0;}#sk-container-id-2 div.sk-dashed-wrapped {border: 1px dashed gray;margin: 0 0.4em 0.5em 0.4em;box-sizing: border-box;padding-bottom: 0.4em;background-color: white;}#sk-container-id-2 div.sk-label label {font-family: monospace;font-weight: bold;display: inline-block;line-height: 1.2em;}#sk-container-id-2 div.sk-label-container {text-align: center;}#sk-container-id-2 div.sk-container {/* jupyter's `normalize.less` sets `[hidden] { display: none; }` but bootstrap.min.css set `[hidden] { display: none !important; }` so we also need the `!important` here to be able to override the default hidden behavior on the sphinx rendered scikit-learn.org. See: https://github.com/scikit-learn/scikit-learn/issues/21755 */display: inline-block !important;position: relative;}#sk-container-id-2 div.sk-text-repr-fallback {display: none;}</style><div id=\"sk-container-id-2\" class=\"sk-top-container\"><div class=\"sk-text-repr-fallback\"><pre>LogisticRegression()</pre><b>In a Jupyter environment, please rerun this cell to show the HTML representation or trust the notebook. <br />On GitHub, the HTML representation is unable to render, please try loading this page with nbviewer.org.</b></div><div class=\"sk-container\" hidden><div class=\"sk-item\"><div class=\"sk-estimator sk-toggleable\"><input class=\"sk-toggleable__control sk-hidden--visually\" id=\"sk-estimator-id-2\" type=\"checkbox\" checked><label for=\"sk-estimator-id-2\" class=\"sk-toggleable__label sk-toggleable__label-arrow\">LogisticRegression</label><div class=\"sk-toggleable__content\"><pre>LogisticRegression()</pre></div></div></div></div></div>"
      ],
      "text/plain": [
       "LogisticRegression()"
      ]
     },
     "execution_count": 67,
     "metadata": {},
     "output_type": "execute_result"
    }
   ],
   "source": [
    "model = LogisticRegression()\n",
    "model.fit(xtrain_vec,ytrain)"
   ]
  },
  {
   "cell_type": "code",
   "execution_count": 68,
   "id": "e4c56bd6",
   "metadata": {},
   "outputs": [],
   "source": [
    "ypred_val_logi = model.predict(xval_vec)"
   ]
  },
  {
   "cell_type": "code",
   "execution_count": 70,
   "id": "a19d39fe",
   "metadata": {},
   "outputs": [
    {
     "name": "stdout",
     "output_type": "stream",
     "text": [
      "Validation Accuracy: 0.5853433139266242\n",
      "Validation Classification Report:\n",
      "               precision    recall  f1-score   support\n",
      "\n",
      "      action        0.52      0.06      0.11       271\n",
      "       adult        0.50      0.03      0.06       118\n",
      "   adventure        0.64      0.06      0.12       141\n",
      "   animation        0.00      0.00      0.00        84\n",
      "   biography        0.00      0.00      0.00        54\n",
      "      comedy        0.51      0.44      0.47      1445\n",
      "       crime        0.00      0.00      0.00        88\n",
      " documentary        0.59      0.89      0.71      2685\n",
      "       drama        0.46      0.83      0.59      2720\n",
      "      family        0.00      0.00      0.00       145\n",
      "     fantasy        0.00      0.00      0.00        57\n",
      "   game-show        1.00      0.20      0.33        40\n",
      "     history        0.00      0.00      0.00        52\n",
      "      horror        0.71      0.34      0.46       429\n",
      "       music        0.93      0.09      0.17       148\n",
      "     musical        0.00      0.00      0.00        55\n",
      "     mystery        0.00      0.00      0.00        89\n",
      "        news        0.00      0.00      0.00        39\n",
      "  reality-tv        0.40      0.01      0.02       167\n",
      "     romance        0.00      0.00      0.00       127\n",
      "      sci-fi        0.67      0.01      0.03       134\n",
      "       short        0.59      0.10      0.17      1001\n",
      "       sport        1.00      0.06      0.12        80\n",
      "   talk-show        0.00      0.00      0.00        73\n",
      "    thriller        0.56      0.01      0.03       341\n",
      "         war        0.00      0.00      0.00        27\n",
      "     western        0.97      0.55      0.70       211\n",
      "\n",
      "     accuracy                           0.53     10821\n",
      "    macro avg       0.37      0.14      0.15     10821\n",
      " weighted avg       0.51      0.53      0.45     10821\n",
      "\n"
     ]
    }
   ],
   "source": [
    "accuracy_val1 = accuracy_score(yval,ypred_val_logi)\n",
    "print(\"Validation Accuracy:\", accuracy_val1)\n",
    "print(\"Validation Classification Report:\")\n",
    "print(classification_report(yval, ypred_val, zero_division=0))"
   ]
  },
  {
   "cell_type": "code",
   "execution_count": 71,
   "id": "1243f860",
   "metadata": {},
   "outputs": [
    {
     "name": "stdout",
     "output_type": "stream",
     "text": [
      "\n",
      "Test Accuracy: 0.5771918795991569\n",
      "Test Classification Report:\n",
      "               precision    recall  f1-score   support\n",
      "\n",
      "      action        0.59      0.09      0.15      1314\n",
      "       adult        0.54      0.06      0.10       590\n",
      "   adventure        0.81      0.05      0.10       773\n",
      "   animation        0.00      0.00      0.00       498\n",
      "   biography        0.00      0.00      0.00       264\n",
      "      comedy        0.51      0.42      0.46      7437\n",
      "       crime        0.00      0.00      0.00       505\n",
      " documentary        0.57      0.87      0.69     13085\n",
      "       drama        0.45      0.83      0.59     13565\n",
      "      family        0.00      0.00      0.00       774\n",
      "     fantasy        0.00      0.00      0.00       322\n",
      "   game-show        0.98      0.27      0.43       193\n",
      "     history        0.00      0.00      0.00       243\n",
      "      horror        0.70      0.33      0.45      2204\n",
      "       music        0.79      0.09      0.16       720\n",
      "     musical        0.00      0.00      0.00       273\n",
      "     mystery        0.00      0.00      0.00       318\n",
      "        news        0.00      0.00      0.00       181\n",
      "  reality-tv        0.59      0.01      0.02       881\n",
      "     romance        0.00      0.00      0.00       670\n",
      "      sci-fi        0.63      0.03      0.06       645\n",
      "       short        0.60      0.11      0.19      5061\n",
      "       sport        0.80      0.10      0.18       430\n",
      "   talk-show        0.00      0.00      0.00       389\n",
      "    thriller        0.34      0.01      0.02      1589\n",
      "         war        0.00      0.00      0.00       132\n",
      "     western        0.95      0.58      0.72      1030\n",
      "\n",
      "     accuracy                           0.52     54086\n",
      "    macro avg       0.36      0.14      0.16     54086\n",
      " weighted avg       0.50      0.52      0.44     54086\n",
      "\n"
     ]
    }
   ],
   "source": [
    "ypred_test_logi = model.predict(xtest_vec)\n",
    "accuracy_test1 = accuracy_score(ytest, ypred_test_logi)\n",
    "print(\"\\nTest Accuracy:\", accuracy_test1)\n",
    "print(\"Test Classification Report:\")\n",
    "print(classification_report(ytest, ypred_test, zero_division=0))"
   ]
  },
  {
   "cell_type": "code",
   "execution_count": null,
   "id": "50517b09",
   "metadata": {},
   "outputs": [],
   "source": []
  }
 ],
 "metadata": {
  "kernelspec": {
   "display_name": "Python 3 (ipykernel)",
   "language": "python",
   "name": "python3"
  },
  "language_info": {
   "codemirror_mode": {
    "name": "ipython",
    "version": 3
   },
   "file_extension": ".py",
   "mimetype": "text/x-python",
   "name": "python",
   "nbconvert_exporter": "python",
   "pygments_lexer": "ipython3",
   "version": "3.11.4"
  }
 },
 "nbformat": 4,
 "nbformat_minor": 5
}
